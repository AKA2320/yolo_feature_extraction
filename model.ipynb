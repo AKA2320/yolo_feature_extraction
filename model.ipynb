{
 "cells": [
  {
   "cell_type": "code",
   "execution_count": 1,
   "id": "ca691dba",
   "metadata": {},
   "outputs": [],
   "source": [
    "import numpy as np\n",
    "from ultralytics import YOLO"
   ]
  },
  {
   "cell_type": "code",
   "execution_count": 2,
   "id": "cef0f2ff",
   "metadata": {},
   "outputs": [],
   "source": [
    "model = YOLO(\"yolo11s.pt\")\n",
    "# model = YOLO(\"yolov12s_best.pt\")"
   ]
  },
  {
   "cell_type": "code",
   "execution_count": 3,
   "id": "98d8405e",
   "metadata": {},
   "outputs": [
    {
     "ename": "SyntaxError",
     "evalue": "'\u001b[31m\u001b[1mch\u001b[0m' is not a valid YOLO argument. \n\n    Arguments received: ['yolo', '--f=/Users/akapatil/Library/Jupyter/runtime/kernel-v33e84bd3f2807f2e7aa34e9b497353d106e3721f2.json']. Ultralytics 'yolo' commands use the following syntax:\n\n        yolo TASK MODE ARGS\n\n        Where   TASK (optional) is one of frozenset({'classify', 'segment', 'detect', 'pose', 'obb'})\n                MODE (required) is one of frozenset({'export', 'benchmark', 'val', 'predict', 'train', 'track'})\n                ARGS (optional) are any number of custom 'arg=value' pairs like 'imgsz=320' that override defaults.\n                    See all ARGS at https://docs.ultralytics.com/usage/cfg or with 'yolo cfg'\n\n    1. Train a detection model for 10 epochs with an initial learning_rate of 0.01\n        yolo train data=coco8.yaml model=yolo11n.pt epochs=10 lr0=0.01\n\n    2. Predict a YouTube video using a pretrained segmentation model at image size 320:\n        yolo predict model=yolo11n-seg.pt source='https://youtu.be/LNwODJXcvt4' imgsz=320\n\n    3. Val a pretrained detection model at batch-size 1 and image size 640:\n        yolo val model=yolo11n.pt data=coco8.yaml batch=1 imgsz=640\n\n    4. Export a YOLO11n classification model to ONNX format at image size 224 by 128 (no TASK required)\n        yolo export model=yolo11n-cls.pt format=onnx imgsz=224,128\n\n    5. Ultralytics solutions usage\n        yolo solutions count or in ['crop', 'blur', 'workout', 'heatmap', 'isegment', 'visioneye', 'speed', 'queue', 'analytics', 'inference', 'trackzone'] source=\"path/to/video.mp4\"\n\n    6. Run special commands:\n        yolo help\n        yolo checks\n        yolo version\n        yolo settings\n        yolo copy-cfg\n        yolo cfg\n        yolo solutions help\n\n    Docs: https://docs.ultralytics.com\n    Solutions: https://docs.ultralytics.com/solutions/\n    Community: https://community.ultralytics.com\n    GitHub: https://github.com/ultralytics/ultralytics\n     (<string>)",
     "output_type": "error",
     "traceback": [
      "Traceback \u001b[36m(most recent call last)\u001b[39m:\n",
      "  File \u001b[92m~/Documents/feature_extraction/model_training/lib/python3.12/site-packages/IPython/core/interactiveshell.py:3670\u001b[39m in \u001b[95mrun_code\u001b[39m\n    exec(code_obj, self.user_global_ns, self.user_ns)\n",
      "  Cell \u001b[92mIn[3]\u001b[39m\u001b[92m, line 1\u001b[39m\n    results = model.train(data=\"yolo_annots/data.yaml\", epochs=20, imgsz=640,ch=1)\n",
      "  File \u001b[92m~/Documents/feature_extraction/model_training/lib/python3.12/site-packages/ultralytics/engine/model.py:787\u001b[39m in \u001b[95mtrain\u001b[39m\n    self.trainer = (trainer or self._smart_load(\"trainer\"))(overrides=args, _callbacks=self.callbacks)\n",
      "  File \u001b[92m~/Documents/feature_extraction/model_training/lib/python3.12/site-packages/ultralytics/engine/trainer.py:105\u001b[39m in \u001b[95m__init__\u001b[39m\n    self.args = get_cfg(cfg, overrides)\n",
      "  File \u001b[92m~/Documents/feature_extraction/model_training/lib/python3.12/site-packages/ultralytics/cfg/__init__.py:308\u001b[39m in \u001b[95mget_cfg\u001b[39m\n    check_dict_alignment(cfg, overrides)\n",
      "\u001b[36m  \u001b[39m\u001b[36mFile \u001b[39m\u001b[32m~/Documents/feature_extraction/model_training/lib/python3.12/site-packages/ultralytics/cfg/__init__.py:498\u001b[39m\u001b[36m in \u001b[39m\u001b[35mcheck_dict_alignment\u001b[39m\n\u001b[31m    \u001b[39m\u001b[31mraise SyntaxError(string + CLI_HELP_MSG) from e\u001b[39m\n",
      "  \u001b[36mFile \u001b[39m\u001b[32m<string>\u001b[39m\n\u001b[31mSyntaxError\u001b[39m\u001b[31m:\u001b[39m '\u001b[31m\u001b[1mch\u001b[0m' is not a valid YOLO argument. \n\n    Arguments received: ['yolo', '--f=/Users/akapatil/Library/Jupyter/runtime/kernel-v33e84bd3f2807f2e7aa34e9b497353d106e3721f2.json']. Ultralytics 'yolo' commands use the following syntax:\n\n        yolo TASK MODE ARGS\n\n        Where   TASK (optional) is one of frozenset({'classify', 'segment', 'detect', 'pose', 'obb'})\n                MODE (required) is one of frozenset({'export', 'benchmark', 'val', 'predict', 'train', 'track'})\n                ARGS (optional) are any number of custom 'arg=value' pairs like 'imgsz=320' that override defaults.\n                    See all ARGS at https://docs.ultralytics.com/usage/cfg or with 'yolo cfg'\n\n    1. Train a detection model for 10 epochs with an initial learning_rate of 0.01\n        yolo train data=coco8.yaml model=yolo11n.pt epochs=10 lr0=0.01\n\n    2. Predict a YouTube video using a pretrained segmentation model at image size 320:\n        yolo predict model=yolo11n-seg.pt source='https://youtu.be/LNwODJXcvt4' imgsz=320\n\n    3. Val a pretrained detection model at batch-size 1 and image size 640:\n        yolo val model=yolo11n.pt data=coco8.yaml batch=1 imgsz=640\n\n    4. Export a YOLO11n classification model to ONNX format at image size 224 by 128 (no TASK required)\n        yolo export model=yolo11n-cls.pt format=onnx imgsz=224,128\n\n    5. Ultralytics solutions usage\n        yolo solutions count or in ['crop', 'blur', 'workout', 'heatmap', 'isegment', 'visioneye', 'speed', 'queue', 'analytics', 'inference', 'trackzone'] source=\"path/to/video.mp4\"\n\n    6. Run special commands:\n        yolo help\n        yolo checks\n        yolo version\n        yolo settings\n        yolo copy-cfg\n        yolo cfg\n        yolo solutions help\n\n    Docs: https://docs.ultralytics.com\n    Solutions: https://docs.ultralytics.com/solutions/\n    Community: https://community.ultralytics.com\n    GitHub: https://github.com/ultralytics/ultralytics\n    \n"
     ]
    }
   ],
   "source": [
    "results = model.train(data=\"yolo_annots/data.yaml\", epochs=20, imgsz=640,ch=1)"
   ]
  },
  {
   "cell_type": "code",
   "execution_count": null,
   "id": "222aed68",
   "metadata": {},
   "outputs": [],
   "source": [
    "model"
   ]
  }
 ],
 "metadata": {
  "kernelspec": {
   "display_name": "model_training",
   "language": "python",
   "name": "python3"
  },
  "language_info": {
   "codemirror_mode": {
    "name": "ipython",
    "version": 3
   },
   "file_extension": ".py",
   "mimetype": "text/x-python",
   "name": "python",
   "nbconvert_exporter": "python",
   "pygments_lexer": "ipython3",
   "version": "3.12.10"
  }
 },
 "nbformat": 4,
 "nbformat_minor": 5
}
